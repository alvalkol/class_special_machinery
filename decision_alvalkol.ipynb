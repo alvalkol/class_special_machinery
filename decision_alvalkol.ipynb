{
  "cells": [
    {
      "cell_type": "code",
      "execution_count": null,
      "metadata": {
        "id": "oKiFMcX-UXfB"
      },
      "outputs": [],
      "source": [
        "import pandas as pd \n",
        "import numpy as np\n",
        "import glob\n",
        "from tqdm import tqdm \n",
        "import cv2\n",
        "\n",
        "from sklearn.metrics import recall_score\n",
        "from sklearn.model_selection import train_test_split\n",
        "from sklearn.metrics import confusion_matrix\n",
        "\n",
        "import os \n",
        "\n",
        "os.environ['CUDA_LAUNCH_BLOCKING'] = \"1\"\n",
        "\n",
        "import torch \n",
        "import torch.nn as nn\n",
        "import torch.optim as optim\n",
        "from torch.utils.data import Dataset\n",
        "from torchvision import datasets, models, transforms\n",
        "\n",
        "from PIL import Image\n",
        "import matplotlib.pyplot as plt\n",
        "from IPython.display import clear_output\n",
        "\n",
        "import seaborn as sns\n",
        "import warnings\n",
        "\n",
        "warnings.simplefilter('ignore')"
      ]
    },
    {
      "cell_type": "markdown",
      "metadata": {
        "id": "EFFo2iP5VLml"
      },
      "source": [
        "## Доступ к датасету"
      ]
    },
    {
      "cell_type": "code",
      "execution_count": null,
      "metadata": {
        "colab": {
          "base_uri": "https://localhost:8080/"
        },
        "id": "Rpgu6kbjUy7J",
        "outputId": "c9d79932-9231-4d85-ffa1-fa56796e2ec8"
      },
      "outputs": [
        {
          "output_type": "stream",
          "name": "stdout",
          "text": [
            "Mounted at /content/drive\n"
          ]
        }
      ],
      "source": [
        "from google.colab import drive\n",
        "drive.mount('/content/drive')"
      ]
    },
    {
      "cell_type": "code",
      "execution_count": null,
      "metadata": {
        "id": "gwBETAd9VJTD"
      },
      "outputs": [],
      "source": [
        "DIR_TRAIN = \"/content/drive/My Drive/train_dataset_train/train/\"\n",
        "DIR_TEST = \"/content/drive/My Drive/test_dataset_test/test/\"\n",
        "\n",
        "PATH_TRAIN = \"/content/drive/My Drive/train_dataset_train/train.csv\"\n",
        "PATH_TEST = \"/content/drive/My Drive/test_dataset_test/test.csv\""
      ]
    },
    {
      "cell_type": "markdown",
      "metadata": {
        "id": "Q4le5Rb7QGaf"
      },
      "source": [
        "## Класс для загрузки датасета"
      ]
    },
    {
      "cell_type": "code",
      "execution_count": null,
      "metadata": {
        "id": "-M4vC-VyPxM7"
      },
      "outputs": [],
      "source": [
        "class ImageDataset(Dataset):\n",
        "    def __init__(self, data_df, transform=None):\n",
        "\n",
        "        self.data_df = data_df\n",
        "        self.transform = transform\n",
        "\n",
        "    def __getitem__(self, idx):\n",
        "        # достаем имя изображения и ее лейбл\n",
        "        image_name, label = self.data_df.iloc[idx]['ID_img'], self.data_df.iloc[idx]['class']\n",
        "\n",
        "        # читаем картинку\n",
        "        image = cv2.imread(DIR_TRAIN + f\"{image_name}\")\n",
        "        image = cv2.cvtColor(image, cv2.COLOR_BGR2RGB)\n",
        "        image = Image.fromarray(image)\n",
        "        \n",
        "        # преобразуем, если нужно\n",
        "        if self.transform:\n",
        "            image = self.transform(image)\n",
        "        \n",
        "        return image, torch.tensor(label).long()\n",
        "    \n",
        "    def __len__(self):\n",
        "        return len(self.data_df)"
      ]
    },
    {
      "cell_type": "code",
      "execution_count": null,
      "metadata": {
        "id": "quED-eRtQL6o"
      },
      "outputs": [],
      "source": [
        "# задаем преобразование изображения.\n",
        "\n",
        "train_transform = transforms.Compose([\n",
        "    transforms.Resize(256), \n",
        "    transforms.RandomResizedCrop(256),\n",
        "    transforms.RandomHorizontalFlip(),\n",
        "    transforms.RandomRotation(degrees=(0, 30)),\n",
        "    #transforms.Grayscale(),\n",
        "    #transforms.RandomPerspective(distortion_scale=0.6, p=1.0),\n",
        "    #transforms.ColorJitter(brightness=.5, hue=.3),\n",
        "    transforms.ToTensor(),\n",
        "    transforms.Normalize(mean=[0.485, 0.456, 0.406],\n",
        "                          std=[0.229, 0.224, 0.225]),\n",
        "])\n",
        "\n",
        "valid_transform = transforms.Compose([\n",
        "    transforms.Resize(256),\n",
        "    transforms.CenterCrop(244),\n",
        "    #transforms.Grayscale(),\n",
        "    #transforms.RandomResizedCrop(256),\n",
        "    #transforms.RandomHorizontalFlip(),\n",
        "    #transforms.ColorJitter(brightness=.5, hue=.3),\n",
        "    transforms.ToTensor(),\n",
        "    transforms.Normalize(mean=[0.485, 0.456, 0.406],\n",
        "                          std=[0.229, 0.224, 0.225]),\n",
        "])"
      ]
    },
    {
      "cell_type": "markdown",
      "metadata": {
        "id": "C8ZX5ad-Y3wZ"
      },
      "source": [
        "## Таблица с разметкой датасета"
      ]
    },
    {
      "cell_type": "code",
      "execution_count": null,
      "metadata": {
        "colab": {
          "base_uri": "https://localhost:8080/",
          "height": 206
        },
        "id": "wxtEoOemQbQZ",
        "outputId": "dbdb4daa-438e-46c2-dd1f-1aeaf32426ee"
      },
      "outputs": [
        {
          "output_type": "execute_result",
          "data": {
            "text/plain": [
              "     ID_img  class\n",
              "0  2138.jpg    4.0\n",
              "1  2139.jpg    6.0\n",
              "2  2140.jpg    3.0\n",
              "3  2141.jpg    6.0\n",
              "4  2142.jpg    3.0"
            ],
            "text/html": [
              "\n",
              "  <div id=\"df-abf403eb-3390-427f-bc95-055a99febd1e\">\n",
              "    <div class=\"colab-df-container\">\n",
              "      <div>\n",
              "<style scoped>\n",
              "    .dataframe tbody tr th:only-of-type {\n",
              "        vertical-align: middle;\n",
              "    }\n",
              "\n",
              "    .dataframe tbody tr th {\n",
              "        vertical-align: top;\n",
              "    }\n",
              "\n",
              "    .dataframe thead th {\n",
              "        text-align: right;\n",
              "    }\n",
              "</style>\n",
              "<table border=\"1\" class=\"dataframe\">\n",
              "  <thead>\n",
              "    <tr style=\"text-align: right;\">\n",
              "      <th></th>\n",
              "      <th>ID_img</th>\n",
              "      <th>class</th>\n",
              "    </tr>\n",
              "  </thead>\n",
              "  <tbody>\n",
              "    <tr>\n",
              "      <th>0</th>\n",
              "      <td>2138.jpg</td>\n",
              "      <td>4.0</td>\n",
              "    </tr>\n",
              "    <tr>\n",
              "      <th>1</th>\n",
              "      <td>2139.jpg</td>\n",
              "      <td>6.0</td>\n",
              "    </tr>\n",
              "    <tr>\n",
              "      <th>2</th>\n",
              "      <td>2140.jpg</td>\n",
              "      <td>3.0</td>\n",
              "    </tr>\n",
              "    <tr>\n",
              "      <th>3</th>\n",
              "      <td>2141.jpg</td>\n",
              "      <td>6.0</td>\n",
              "    </tr>\n",
              "    <tr>\n",
              "      <th>4</th>\n",
              "      <td>2142.jpg</td>\n",
              "      <td>3.0</td>\n",
              "    </tr>\n",
              "  </tbody>\n",
              "</table>\n",
              "</div>\n",
              "      <button class=\"colab-df-convert\" onclick=\"convertToInteractive('df-abf403eb-3390-427f-bc95-055a99febd1e')\"\n",
              "              title=\"Convert this dataframe to an interactive table.\"\n",
              "              style=\"display:none;\">\n",
              "        \n",
              "  <svg xmlns=\"http://www.w3.org/2000/svg\" height=\"24px\"viewBox=\"0 0 24 24\"\n",
              "       width=\"24px\">\n",
              "    <path d=\"M0 0h24v24H0V0z\" fill=\"none\"/>\n",
              "    <path d=\"M18.56 5.44l.94 2.06.94-2.06 2.06-.94-2.06-.94-.94-2.06-.94 2.06-2.06.94zm-11 1L8.5 8.5l.94-2.06 2.06-.94-2.06-.94L8.5 2.5l-.94 2.06-2.06.94zm10 10l.94 2.06.94-2.06 2.06-.94-2.06-.94-.94-2.06-.94 2.06-2.06.94z\"/><path d=\"M17.41 7.96l-1.37-1.37c-.4-.4-.92-.59-1.43-.59-.52 0-1.04.2-1.43.59L10.3 9.45l-7.72 7.72c-.78.78-.78 2.05 0 2.83L4 21.41c.39.39.9.59 1.41.59.51 0 1.02-.2 1.41-.59l7.78-7.78 2.81-2.81c.8-.78.8-2.07 0-2.86zM5.41 20L4 18.59l7.72-7.72 1.47 1.35L5.41 20z\"/>\n",
              "  </svg>\n",
              "      </button>\n",
              "      \n",
              "  <style>\n",
              "    .colab-df-container {\n",
              "      display:flex;\n",
              "      flex-wrap:wrap;\n",
              "      gap: 12px;\n",
              "    }\n",
              "\n",
              "    .colab-df-convert {\n",
              "      background-color: #E8F0FE;\n",
              "      border: none;\n",
              "      border-radius: 50%;\n",
              "      cursor: pointer;\n",
              "      display: none;\n",
              "      fill: #1967D2;\n",
              "      height: 32px;\n",
              "      padding: 0 0 0 0;\n",
              "      width: 32px;\n",
              "    }\n",
              "\n",
              "    .colab-df-convert:hover {\n",
              "      background-color: #E2EBFA;\n",
              "      box-shadow: 0px 1px 2px rgba(60, 64, 67, 0.3), 0px 1px 3px 1px rgba(60, 64, 67, 0.15);\n",
              "      fill: #174EA6;\n",
              "    }\n",
              "\n",
              "    [theme=dark] .colab-df-convert {\n",
              "      background-color: #3B4455;\n",
              "      fill: #D2E3FC;\n",
              "    }\n",
              "\n",
              "    [theme=dark] .colab-df-convert:hover {\n",
              "      background-color: #434B5C;\n",
              "      box-shadow: 0px 1px 3px 1px rgba(0, 0, 0, 0.15);\n",
              "      filter: drop-shadow(0px 1px 2px rgba(0, 0, 0, 0.3));\n",
              "      fill: #FFFFFF;\n",
              "    }\n",
              "  </style>\n",
              "\n",
              "      <script>\n",
              "        const buttonEl =\n",
              "          document.querySelector('#df-abf403eb-3390-427f-bc95-055a99febd1e button.colab-df-convert');\n",
              "        buttonEl.style.display =\n",
              "          google.colab.kernel.accessAllowed ? 'block' : 'none';\n",
              "\n",
              "        async function convertToInteractive(key) {\n",
              "          const element = document.querySelector('#df-abf403eb-3390-427f-bc95-055a99febd1e');\n",
              "          const dataTable =\n",
              "            await google.colab.kernel.invokeFunction('convertToInteractive',\n",
              "                                                     [key], {});\n",
              "          if (!dataTable) return;\n",
              "\n",
              "          const docLinkHtml = 'Like what you see? Visit the ' +\n",
              "            '<a target=\"_blank\" href=https://colab.research.google.com/notebooks/data_table.ipynb>data table notebook</a>'\n",
              "            + ' to learn more about interactive tables.';\n",
              "          element.innerHTML = '';\n",
              "          dataTable['output_type'] = 'display_data';\n",
              "          await google.colab.output.renderOutput(dataTable, element);\n",
              "          const docLink = document.createElement('div');\n",
              "          docLink.innerHTML = docLinkHtml;\n",
              "          element.appendChild(docLink);\n",
              "        }\n",
              "      </script>\n",
              "    </div>\n",
              "  </div>\n",
              "  "
            ]
          },
          "metadata": {},
          "execution_count": 6
        }
      ],
      "source": [
        "data_df = pd.read_csv(PATH_TRAIN)\n",
        "data_df.head()"
      ]
    },
    {
      "cell_type": "code",
      "execution_count": null,
      "metadata": {
        "id": "cB9L0is1VJZy",
        "colab": {
          "base_uri": "https://localhost:8080/",
          "height": 296
        },
        "outputId": "713e3824-fb2a-46a2-cb91-a4e3770396c3"
      },
      "outputs": [
        {
          "output_type": "execute_result",
          "data": {
            "text/plain": [
              "<matplotlib.axes._subplots.AxesSubplot at 0x7f84ad3ef610>"
            ]
          },
          "metadata": {},
          "execution_count": 7
        },
        {
          "output_type": "display_data",
          "data": {
            "text/plain": [
              "<Figure size 432x288 with 1 Axes>"
            ],
            "image/png": "[encoded data removed]"
          },
          "metadata": {
            "needs_background": "light"
          }
        }
      ],
      "source": [
        "sns.countplot(x=\"class\" , data=data_df)"
      ]
    },
    {
      "cell_type": "markdown",
      "metadata": {
        "id": "fcfZESW6ZcE9"
      },
      "source": [
        "Выводы"
      ]
    },
    {
      "cell_type": "markdown",
      "metadata": {
        "id": "3yfv87MDaQsC"
      },
      "source": [
        "## Исследование изображений"
      ]
    },
    {
      "cell_type": "code",
      "execution_count": null,
      "metadata": {
        "id": "qacld8r6VJcP"
      },
      "outputs": [],
      "source": [
        "# from torch._C import Value\n",
        "# # посмотрим на картинки. Не забудем указать корретный путь до папки\n",
        "# class_dict = {\n",
        "#     'Автокран': 0, \n",
        "#     'Легковой автомобиль': 1,\n",
        "#     'Экскаватор': 2,\n",
        "#     'Человек': 3,\n",
        "#     'Самосвал': 4,\n",
        "#     'Карьерный погрузчик': 5,\n",
        "#     'Каток': 6,\n",
        "#     'Бульдозер': 7\n",
        "#     }\n",
        "\n",
        "# for name, number in class_dict.items():\n",
        "#   fig, axs = plt.subplots(2, 2, figsize=(10,4))\n",
        "#   fig.suptitle(f'{name}', fontsize=10)\n",
        "#   #Автомобиль {\" \"*105} Кран\n",
        "\n",
        "#   for i, name in zip(range(4), data_df[ data_df['class'] == number ].sample(4, random_state=42)['ID_img']):\n",
        "#     axs[i // 2, (i % 2)].imshow(plt.imread(DIR_TRAIN + f\"{name}\"))\n",
        "#     axs[i // 2, (i % 2)].axis('off')\n",
        "\n",
        "#   # for i, name in zip(range(4), data_df[ data_df['class'] == 0 ].sample(4, random_state=42)['ID_img']):\n",
        "#   #   axs[i // 2, (i % 2)+2].imshow(plt.imread(DIR_TRAIN + f\"{name}\"))\n",
        "#   #   axs[i // 2, (i % 2)+2].axis('off')\n",
        "\n",
        "#   fig.tight_layout()\n",
        "#   fig.subplots_adjust(top=0.88)"
      ]
    },
    {
      "cell_type": "markdown",
      "metadata": {
        "id": "iYxaxVO0cEE-"
      },
      "source": [
        "Выводы"
      ]
    },
    {
      "cell_type": "markdown",
      "metadata": {
        "id": "Vmofi8mdcPiB"
      },
      "source": [
        "## Обработка изображений"
      ]
    },
    {
      "cell_type": "markdown",
      "metadata": {
        "id": "KTkwVdyOc0hQ"
      },
      "source": [
        "Используемые методы"
      ]
    },
    {
      "cell_type": "code",
      "execution_count": null,
      "metadata": {
        "id": "JDXQhaC5cFlo"
      },
      "outputs": [],
      "source": [
        "# from rembg import remove\n",
        "\n",
        "# input_path = DIR_TRAIN + '2139.jpg'\n",
        "# output_path = 'out.png'\n",
        "\n",
        "# input = cv2.imread(input_path)\n",
        "# output = remove(input)\n",
        "# cv2.imwrite(output_path, output)\n",
        "\n",
        "# cv2_imshow(output)"
      ]
    },
    {
      "cell_type": "markdown",
      "metadata": {
        "id": "Lp3kjFiFd582"
      },
      "source": [
        "## Исследование модели"
      ]
    },
    {
      "cell_type": "markdown",
      "metadata": {
        "id": "Wy7kyqPn1IGr"
      },
      "source": [
        "### Подготовка выборок"
      ]
    },
    {
      "cell_type": "code",
      "execution_count": null,
      "metadata": {
        "id": "Dro1NWtEVgmy"
      },
      "outputs": [],
      "source": [
        "# разделим датасет на трейн и валидацию, чтобы смотреть на качество\n",
        "# train_df, valid_df = train_test_split(data_df, test_size=0.2, random_state=43)"
      ]
    },
    {
      "cell_type": "code",
      "execution_count": null,
      "metadata": {
        "id": "wznsnKsnVrSI"
      },
      "outputs": [],
      "source": [
        "#train_df.shape, valid_df.shape"
      ]
    },
    {
      "cell_type": "code",
      "execution_count": null,
      "metadata": {
        "id": "hfBZr7DEVtT3"
      },
      "outputs": [],
      "source": [
        "# train_dataset = ImageDataset(train_df, train_transform)\n",
        "# valid_dataset = ImageDataset(valid_df, valid_transform)"
      ]
    },
    {
      "cell_type": "code",
      "execution_count": null,
      "metadata": {
        "id": "-2jcLBlYVwxx"
      },
      "outputs": [],
      "source": [
        "# train_loader = torch.utils.data.DataLoader(dataset=train_dataset,\n",
        "#                                            batch_size=32,\n",
        "#                                            shuffle=True,\n",
        "#                                            pin_memory=True,\n",
        "#                                            num_workers=2)\n",
        "\n",
        "# valid_loader = torch.utils.data.DataLoader(dataset=valid_dataset,\n",
        "#                                            batch_size=32,\n",
        "#                                            # shuffle=True,\n",
        "#                                            pin_memory=True,\n",
        "#                                            num_workers=2)"
      ]
    },
    {
      "cell_type": "markdown",
      "metadata": {
        "id": "MVSDyW8pV7k_"
      },
      "source": [
        "### Вспомогательные функции"
      ]
    },
    {
      "cell_type": "code",
      "execution_count": null,
      "metadata": {
        "id": "_0tXarcfV031"
      },
      "outputs": [],
      "source": [
        "def crossvalid(res_model=None,criterion=None,optimizer=None,dataset=None,k_fold=5):\n",
        "    \n",
        "    train_score = pd.Series()\n",
        "    val_score = pd.Series()\n",
        "    \n",
        "    total_size = len(dataset)\n",
        "    fraction = 1/k_fold\n",
        "    seg = int(total_size * fraction)\n",
        "    # tr:train,val:valid; r:right,l:left;  eg: trrr: right index of right side train subset \n",
        "    # index: [trll,trlr],[vall,valr],[trrl,trrr]\n",
        "    for i in range(k_fold):\n",
        "        trll = 0\n",
        "        trlr = i * seg\n",
        "        vall = trlr\n",
        "        valr = i * seg + seg\n",
        "        trrl = valr\n",
        "        trrr = total_size\n",
        "        \n",
        "        train_left_indices = list(range(trll,trlr))\n",
        "        train_right_indices = list(range(trrl,trrr))\n",
        "        \n",
        "        train_indices = train_left_indices + train_right_indices\n",
        "        val_indices = list(range(vall,valr))\n",
        "        \n",
        "        train_set = torch.utils.data.dataset.Subset(dataset,train_indices)\n",
        "        val_set = torch.utils.data.dataset.Subset(dataset,val_indices)\n",
        "        \n",
        "        train_loader = torch.utils.data.DataLoader(train_set, batch_size=50,\n",
        "                                          shuffle=True, num_workers=4)\n",
        "        val_loader = torch.utils.data.DataLoader(val_set, batch_size=50,\n",
        "                                          shuffle=True, num_workers=4)\n",
        "        train_acc = train(res_model,criterion,optimizer,train_loader,val_loader,1)\n",
        "        train_score.at[i] = train_acc\n",
        "        val_acc = valid(res_model,criterion,optimizer,val_loader)\n",
        "        val_score.at[i] = val_acc\n",
        "    \n",
        "    return train_score,val_score"
      ]
    },
    {
      "cell_type": "code",
      "execution_count": null,
      "metadata": {
        "id": "OUIQKkCZWCF4"
      },
      "outputs": [],
      "source": [
        "def plot_history(train_history, val_history, title='loss'):\n",
        "    plt.figure()\n",
        "    plt.title('{}'.format(title))\n",
        "    dd = list(map(lambda x: x.cpu().detach().numpy(), train_history))\n",
        "    plt.plot(dd, label='train', zorder=1)\n",
        "    \n",
        "    points = np.array(val_history)\n",
        "    steps = list(range(0, len(train_history) + 1, int(len(train_history) / len(val_history))))[1:]\n",
        "\n",
        "    plt.scatter(steps, val_history, marker='+', s=180, c='orange', label='val', zorder=2)\n",
        "    plt.xlabel('train steps')\n",
        "    \n",
        "    plt.legend(loc='best')\n",
        "    plt.grid()\n",
        "\n",
        "    plt.show()"
      ]
    },
    {
      "cell_type": "code",
      "execution_count": null,
      "metadata": {
        "id": "9s3xf8aOWFw6"
      },
      "outputs": [],
      "source": [
        "def train(res_model, criterion, optimizer, train_dataloader, test_dataloader, NUM_EPOCH=15):\n",
        "    train_loss_log = []\n",
        "    val_loss_log = []\n",
        "    \n",
        "    train_acc_log = []\n",
        "    val_acc_log = []\n",
        "    \n",
        "    for epoch in tqdm(range(NUM_EPOCH)):\n",
        "        model.train()\n",
        "        train_loss = 0.\n",
        "        train_size = 0\n",
        "        \n",
        "        train_pred = 0.\n",
        "\n",
        "        for imgs, labels in train_dataloader:\n",
        "            optimizer.zero_grad()\n",
        "\n",
        "            imgs = imgs.cuda()\n",
        "            labels = labels.cuda()\n",
        "\n",
        "            y_pred = model(imgs)\n",
        "\n",
        "            loss = criterion(y_pred, labels)\n",
        "            loss.backward()\n",
        "            \n",
        "            train_loss += loss.item()\n",
        "            train_size += y_pred.size(0)\n",
        "            train_loss_log.append(loss.data / y_pred.size(0))\n",
        "            \n",
        "            train_pred += (y_pred.argmax(1) == labels).sum()\n",
        "\n",
        "            optimizer.step()\n",
        "\n",
        "        train_acc_log.append(train_pred / train_size)\n",
        "\n",
        "        val_loss = 0.\n",
        "        val_size = 0\n",
        "        \n",
        "        val_pred = 0.\n",
        "        \n",
        "        model.eval()\n",
        "        \n",
        "        with torch.no_grad():\n",
        "            for imgs, labels in test_dataloader:\n",
        "                \n",
        "                imgs = imgs.cuda()\n",
        "                labels = labels.cuda()\n",
        "                \n",
        "                pred = model(imgs)\n",
        "                loss = criterion(pred, labels)\n",
        "                \n",
        "                val_loss += loss.item()\n",
        "                val_size += pred.size(0)\n",
        "                \n",
        "                val_pred += (pred.argmax(1) == labels).sum()\n",
        "        \n",
        "\n",
        "        val_loss_log.append(val_loss / val_size)\n",
        "        val_acc_log.append(val_pred / val_size)\n",
        "\n",
        "        clear_output()\n",
        "        plot_history(train_loss_log, val_loss_log, 'loss')\n",
        "        \n",
        "\n",
        "\n",
        "        print('Train loss:', (train_loss / train_size)*100)\n",
        "        print('Val loss:', (val_loss / val_size)*100)\n",
        "        print('Train acc:', (train_pred / train_size)*100)\n",
        "        print('Val acc:', (val_pred / val_size)*100)\n",
        "        \n",
        "    return train_loss_log, train_acc_log, val_loss_log, val_acc_log"
      ]
    },
    {
      "cell_type": "markdown",
      "metadata": {
        "id": "uq8KLsM-WOWZ"
      },
      "source": [
        "### Модель"
      ]
    },
    {
      "cell_type": "code",
      "execution_count": null,
      "metadata": {
        "id": "5HGojyuxWKRv"
      },
      "outputs": [],
      "source": [
        "# # Подргружаем модель и установим выход равный числу классов\n",
        "\n",
        "# model = models.resnet50(pretrained=True)\n",
        "# model.fc = nn.Linear(2048, 8)\n",
        "\n",
        "# model = model.cuda()\n",
        "# criterion = torch.nn.CrossEntropyLoss()"
      ]
    },
    {
      "cell_type": "code",
      "execution_count": null,
      "metadata": {
        "id": "ytrobH5eWmCo"
      },
      "outputs": [],
      "source": [
        "# optimizer = torch.optim.Adam(model.fc.parameters(), lr=0.001)"
      ]
    },
    {
      "cell_type": "code",
      "source": [
        "#torch.cuda.empty_cache()\n",
        "# https://dev-gang.ru/article/-luczshih-predvaritelno-podgotovlennyh-modeli-dlja-klassifikacii-izobrazhenii-s-pomosczu-koda-python-00gddb9o3g/"
      ],
      "metadata": {
        "id": "1kf3KpmQiRnX"
      },
      "execution_count": null,
      "outputs": []
    },
    {
      "cell_type": "code",
      "execution_count": null,
      "metadata": {
        "id": "qCPv7ZwXWpM8"
      },
      "outputs": [],
      "source": [
        "# train_loss_log, train_acc_log, val_loss_log, val_acc_log = train(model, criterion, optimizer, train_loader, valid_loader, 50)"
      ]
    },
    {
      "cell_type": "code",
      "source": [
        "# plot_history(train_loss_log, val_loss_log, title='loss')"
      ],
      "metadata": {
        "id": "HFftNvwwk14V"
      },
      "execution_count": null,
      "outputs": []
    },
    {
      "cell_type": "markdown",
      "metadata": {
        "id": "S1MvjPY3XmCW"
      },
      "source": [
        "### Посмотрим метрики нашей итоговой модели на валидации."
      ]
    },
    {
      "cell_type": "code",
      "execution_count": null,
      "metadata": {
        "id": "4mQP7l3cXno8"
      },
      "outputs": [],
      "source": [
        "# model.eval()\n",
        "# valid_predicts = []\n",
        "\n",
        "# for imgs, _ in tqdm(valid_loader):\n",
        "    \n",
        "#     imgs = imgs.cuda()\n",
        "#     pred = model(imgs)\n",
        "\n",
        "#     pred_numpy = pred.cpu().detach().numpy()\n",
        "\n",
        "#     for class_obj in pred_numpy:\n",
        "#       index, max_value = max(enumerate(class_obj), key=lambda i_v: i_v[1])\n",
        "#       valid_predicts.append(index)"
      ]
    },
    {
      "cell_type": "code",
      "execution_count": null,
      "metadata": {
        "id": "PY5G14bGX1eb"
      },
      "outputs": [],
      "source": [
        "# valid_df[\"pred\"] = valid_predicts\n",
        "\n",
        "# valid_df.head()"
      ]
    },
    {
      "cell_type": "markdown",
      "metadata": {
        "id": "eU1YJfivX7uK"
      },
      "source": [
        "Посчитаем recall"
      ]
    },
    {
      "cell_type": "code",
      "execution_count": null,
      "metadata": {
        "id": "sYGAT0ENX8tX"
      },
      "outputs": [],
      "source": [
        "# val_accuracy = recall_score(valid_df['class'].values, valid_df['pred'].values, average = \"macro\")\n",
        "# print(f\"Validation accuracy = {val_accuracy}\")"
      ]
    },
    {
      "cell_type": "markdown",
      "source": [
        "### На обработанных данных"
      ],
      "metadata": {
        "id": "OEmuDhxm0iLo"
      }
    },
    {
      "cell_type": "code",
      "execution_count": null,
      "metadata": {
        "id": "V4iaj81bed1o"
      },
      "outputs": [],
      "source": [
        "# DIR_TRAIN = \"/content/drive/My Drive/class_special_machinery/train_dataset_train/train_rmbg/\"\n",
        "# PATH_TRAIN = \"/content/drive/My Drive/class_special_machinery/train_dataset_train/train.csv\""
      ]
    },
    {
      "cell_type": "code",
      "source": [
        "# from torch._C import Value\n",
        "# # посмотрим на картинки. Не забудем указать корретный путь до папки\n",
        "# class_dict = {\n",
        "#     'Автокран': 0, \n",
        "#     'Легковой автомобиль': 1,\n",
        "#     'Экскаватор': 2,\n",
        "#     'Человек': 3,\n",
        "#     'Самосвал': 4,\n",
        "#     'Карьерный погрузчик': 5,\n",
        "#     'Каток': 6,\n",
        "#     'Бульдозер': 7\n",
        "#     }\n",
        "\n",
        "# for name, number in class_dict.items():\n",
        "#   fig, axs = plt.subplots(2, 2, figsize=(10,4))\n",
        "#   fig.suptitle(f'{name}', fontsize=10)\n",
        "#   #Автомобиль {\" \"*105} Кран\n",
        "\n",
        "#   for i, name in zip(range(4), data_df[ data_df['class'] == number ].sample(4, random_state=42)['ID_img']):\n",
        "#     axs[i // 2, (i % 2)].imshow(plt.imread(DIR_TRAIN + f\"{name}\"))\n",
        "#     axs[i // 2, (i % 2)].axis('off')\n",
        "\n",
        "#   # for i, name in zip(range(4), data_df[ data_df['class'] == 0 ].sample(4, random_state=42)['ID_img']):\n",
        "#   #   axs[i // 2, (i % 2)+2].imshow(plt.imread(DIR_TRAIN + f\"{name}\"))\n",
        "#   #   axs[i // 2, (i % 2)+2].axis('off')\n",
        "\n",
        "#   fig.tight_layout()\n",
        "#   fig.subplots_adjust(top=0.88)"
      ],
      "metadata": {
        "id": "MdYF7uKh1Gfi"
      },
      "execution_count": null,
      "outputs": []
    },
    {
      "cell_type": "code",
      "source": [
        "# model = models.resnet50(pretrained=True)\n",
        "# model.fc = nn.Linear(2048, 8)"
      ],
      "metadata": {
        "id": "rUblJP9ZIZrT"
      },
      "execution_count": null,
      "outputs": []
    },
    {
      "cell_type": "code",
      "source": [
        "# train_loss_log, train_acc_log, val_loss_log, val_acc_log = train(model, criterion, optimizer, train_loader, valid_loader, 50)"
      ],
      "metadata": {
        "id": "zfNke9AK1fh0"
      },
      "execution_count": null,
      "outputs": []
    },
    {
      "cell_type": "code",
      "source": [
        "# model.eval()\n",
        "# valid_predicts = []\n",
        "\n",
        "# for imgs, _ in tqdm(valid_loader):\n",
        "    \n",
        "#     imgs = imgs.cuda()\n",
        "#     pred = model(imgs)\n",
        "\n",
        "#     pred_numpy = pred.cpu().detach().numpy()\n",
        "\n",
        "#     for class_obj in pred_numpy:\n",
        "#       index, max_value = max(enumerate(class_obj), key=lambda i_v: i_v[1])\n",
        "#       valid_predicts.append(index)\n",
        "\n",
        "# valid_df[\"pred\"] = valid_predicts\n",
        "\n",
        "# val_accuracy = recall_score(valid_df['class'].values, valid_df['pred'].values, average = \"macro\")\n",
        "# print(f\"Validation accuracy = {val_accuracy}\")"
      ],
      "metadata": {
        "id": "N0I3gW6p1gTs"
      },
      "execution_count": null,
      "outputs": []
    },
    {
      "cell_type": "markdown",
      "source": [
        "### На смешанных данных"
      ],
      "metadata": {
        "id": "Rr_k3SX_-CwY"
      }
    },
    {
      "cell_type": "code",
      "source": [
        "model = models.resnet50(pretrained=True)\n",
        "model.fc = nn.Linear(2048, 8)\n",
        "\n",
        "model = model.cuda()\n",
        "criterion = torch.nn.CrossEntropyLoss()"
      ],
      "metadata": {
        "id": "zuKKQ_1LIdgh",
        "colab": {
          "base_uri": "https://localhost:8080/",
          "height": 66,
          "referenced_widgets": [
            "01fdeb729bf14cedbc442384ba1f6476",
            "9e51420d68f142698faf3031ef57e40d",
            "19b1ca797d914bde96fd6d76d779dc3c",
            "c2210de9f42c446fa7deb5c0509c0b70",
            "01b933bab9ef4c3ab9d8de277e2edc58",
            "20340ce82b084123a011a858bbf88488",
            "dfe88fd006d249538af3a17dd8898874",
            "416d5179802a4ee9a36d15d0040af22c",
            "369814b7f3d641fda958df2f49a84994",
            "680e76b99a294c97a920929eac904d45",
            "f2488476699044539449922bb5167101"
          ]
        },
        "outputId": "8e26d031-3560-4cb3-e35b-f67214dffc0f"
      },
      "execution_count": null,
      "outputs": [
        {
          "output_type": "stream",
          "name": "stderr",
          "text": [
            "Downloading: \"https://download.pytorch.org/models/resnet50-0676ba61.pth\" to /root/.cache/torch/hub/checkpoints/resnet50-0676ba61.pth\n"
          ]
        },
        {
          "output_type": "display_data",
          "data": {
            "text/plain": [
              "  0%|          | 0.00/97.8M [00:00<?, ?B/s]"
            ],
            "application/vnd.jupyter.widget-view+json": {
              "version_major": 2,
              "version_minor": 0,
              "model_id": "01fdeb729bf14cedbc442384ba1f6476"
            }
          },
          "metadata": {}
        }
      ]
    },
    {
      "cell_type": "code",
      "source": [
        "optimizer = torch.optim.Adam(model.fc.parameters(), lr=0.001)"
      ],
      "metadata": {
        "id": "IhanHRi7dj6T"
      },
      "execution_count": null,
      "outputs": []
    },
    {
      "cell_type": "code",
      "source": [
        "DIR_TRAIN = \"/content/drive/My Drive/train_default_and_rmbg/\"\n",
        "PATH_TRAIN = \"/content/drive/My Drive/train_common.csv\""
      ],
      "metadata": {
        "id": "WiYlZAHP-OMi"
      },
      "execution_count": null,
      "outputs": []
    },
    {
      "cell_type": "code",
      "source": [
        "data_df = pd.read_csv(PATH_TRAIN)\n",
        "data_df.shape"
      ],
      "metadata": {
        "id": "hb57nQW6-cmB",
        "colab": {
          "base_uri": "https://localhost:8080/"
        },
        "outputId": "b530acc4-004a-4c83-a3b3-ec1d782dc1ee"
      },
      "execution_count": null,
      "outputs": [
        {
          "output_type": "execute_result",
          "data": {
            "text/plain": [
              "(9980, 2)"
            ]
          },
          "metadata": {},
          "execution_count": 41
        }
      ]
    },
    {
      "cell_type": "code",
      "source": [
        "for i in range(len(data_df)):\n",
        "    if int(data_df['ID_img'][i].split('.')[0]) >= 9000 and data_df['class'][i] not in [0, 2, 5, 6, 7]:\n",
        "        data_df = data_df.drop(i)\n",
        "\n",
        "data_df.shape"
      ],
      "metadata": {
        "id": "MyKk1u7A-GC8",
        "colab": {
          "base_uri": "https://localhost:8080/"
        },
        "outputId": "43c9309c-a935-4e83-eee5-0259150ff231"
      },
      "execution_count": null,
      "outputs": [
        {
          "output_type": "execute_result",
          "data": {
            "text/plain": [
              "(6628, 2)"
            ]
          },
          "metadata": {},
          "execution_count": 42
        }
      ]
    },
    {
      "cell_type": "code",
      "source": [
        "train_df, valid_df = train_test_split(data_df, test_size=0.2, random_state=43)\n",
        "train_df.shape, valid_df.shape"
      ],
      "metadata": {
        "id": "1KgdiWg-WEbl",
        "colab": {
          "base_uri": "https://localhost:8080/"
        },
        "outputId": "d617f7b7-4a4b-4783-8903-a65e49f64105"
      },
      "execution_count": null,
      "outputs": [
        {
          "output_type": "execute_result",
          "data": {
            "text/plain": [
              "((5302, 2), (1326, 2))"
            ]
          },
          "metadata": {},
          "execution_count": 43
        }
      ]
    },
    {
      "cell_type": "code",
      "execution_count": null,
      "metadata": {
        "id": "ocmYgz3YWfrk"
      },
      "outputs": [],
      "source": [
        "train_dataset = ImageDataset(train_df, train_transform)\n",
        "valid_dataset = ImageDataset(valid_df, valid_transform)"
      ]
    },
    {
      "cell_type": "code",
      "execution_count": null,
      "metadata": {
        "id": "j5mT0e5TWfrl"
      },
      "outputs": [],
      "source": [
        "train_loader = torch.utils.data.DataLoader(dataset=train_dataset,\n",
        "                                           batch_size=32,\n",
        "                                           shuffle=True,\n",
        "                                           pin_memory=True,\n",
        "                                           num_workers=2)\n",
        "\n",
        "valid_loader = torch.utils.data.DataLoader(dataset=valid_dataset,\n",
        "                                           batch_size=32,\n",
        "                                           # shuffle=True,\n",
        "                                           pin_memory=True,\n",
        "                                           num_workers=2)"
      ]
    },
    {
      "cell_type": "code",
      "source": [
        "sns.countplot(x=\"class\" , data=data_df)"
      ],
      "metadata": {
        "id": "WzyFcKD7DekP",
        "colab": {
          "base_uri": "https://localhost:8080/",
          "height": 296
        },
        "outputId": "4a7647c6-277f-4192-ff48-db1e0856592c"
      },
      "execution_count": null,
      "outputs": [
        {
          "output_type": "execute_result",
          "data": {
            "text/plain": [
              "<matplotlib.axes._subplots.AxesSubplot at 0x7f84a420a490>"
            ]
          },
          "metadata": {},
          "execution_count": 46
        },
        {
          "output_type": "display_data",
          "data": {
            "text/plain": [
              "<Figure size 432x288 with 1 Axes>"
            ],
            "image/png": "[encoded data removed]"
          },
          "metadata": {
            "needs_background": "light"
          }
        }
      ]
    },
    {
      "cell_type": "code",
      "source": [
        "train_loss_log, train_acc_log, val_loss_log, val_acc_log = train(model, criterion, optimizer, train_loader, valid_loader, 30)"
      ],
      "metadata": {
        "colab": {
          "base_uri": "https://localhost:8080/",
          "height": 382
        },
        "outputId": "a57ee49c-79d7-451a-943c-49baa07f57a9",
        "id": "-iFqrZKd_FtN"
      },
      "execution_count": null,
      "outputs": [
        {
          "output_type": "display_data",
          "data": {
            "text/plain": [
              "<Figure size 432x288 with 1 Axes>"
            ],
            "image/png": "[encoded data removed]"
          },
          "metadata": {
            "needs_background": "light"
          }
        },
        {
          "output_type": "stream",
          "name": "stderr",
          "text": [
            "100%|██████████| 30/30 [56:21<00:00, 112.71s/it]"
          ]
        },
        {
          "output_type": "stream",
          "name": "stdout",
          "text": [
            "Train loss: 2.0648983195114927\n",
            "Val loss: 1.2307633484290914\n",
            "Train acc: tensor(78.1969, device='cuda:0')\n",
            "Val acc: tensor(86.2745, device='cuda:0')\n"
          ]
        },
        {
          "output_type": "stream",
          "name": "stderr",
          "text": [
            "\n"
          ]
        }
      ]
    },
    {
      "cell_type": "code",
      "source": [
        "model.eval()\n",
        "valid_predicts = []\n",
        "\n",
        "for imgs, _ in tqdm(valid_loader):\n",
        "    \n",
        "    imgs = imgs.cuda()\n",
        "    pred = model(imgs)\n",
        "\n",
        "    pred_numpy = pred.cpu().detach().numpy()\n",
        "\n",
        "    for class_obj in pred_numpy:\n",
        "      index, max_value = max(enumerate(class_obj), key=lambda i_v: i_v[1])\n",
        "      valid_predicts.append(index)\n",
        "\n",
        "valid_df[\"pred\"] = valid_predicts\n",
        "\n",
        "val_accuracy = recall_score(valid_df['class'].values, valid_df['pred'].values, average = \"macro\")\n",
        "print(f\"Validation accuracy = {val_accuracy}\")"
      ],
      "metadata": {
        "colab": {
          "base_uri": "https://localhost:8080/"
        },
        "id": "-YQyw97I_FtO",
        "outputId": "bad97fc5-411c-4c1b-c570-34d88dcb5aad"
      },
      "execution_count": null,
      "outputs": [
        {
          "output_type": "stream",
          "name": "stderr",
          "text": [
            "100%|██████████| 42/42 [00:07<00:00,  5.62it/s]"
          ]
        },
        {
          "output_type": "stream",
          "name": "stdout",
          "text": [
            "Validation accuracy = 0.8528065185383721\n"
          ]
        },
        {
          "output_type": "stream",
          "name": "stderr",
          "text": [
            "\n"
          ]
        }
      ]
    },
    {
      "cell_type": "code",
      "source": [
        "valid_df.head()"
      ],
      "metadata": {
        "colab": {
          "base_uri": "https://localhost:8080/",
          "height": 206
        },
        "id": "9pSJehgB_C_F",
        "outputId": "2431be73-63eb-4479-a032-f1ead84ebead"
      },
      "execution_count": null,
      "outputs": [
        {
          "output_type": "execute_result",
          "data": {
            "text/plain": [
              "         ID_img  class  pred\n",
              "1023   3161.jpg    2.0     0\n",
              "1324   3462.jpg    2.0     2\n",
              "8069  12079.jpg    7.0     7\n",
              "6122  10132.jpg    5.0     5\n",
              "4230   6368.jpg    1.0     1"
            ],
            "text/html": [
              "\n",
              "  <div id=\"df-d687a26d-d0c5-4fa2-b6e0-0ed9f9d667be\">\n",
              "    <div class=\"colab-df-container\">\n",
              "      <div>\n",
              "<style scoped>\n",
              "    .dataframe tbody tr th:only-of-type {\n",
              "        vertical-align: middle;\n",
              "    }\n",
              "\n",
              "    .dataframe tbody tr th {\n",
              "        vertical-align: top;\n",
              "    }\n",
              "\n",
              "    .dataframe thead th {\n",
              "        text-align: right;\n",
              "    }\n",
              "</style>\n",
              "<table border=\"1\" class=\"dataframe\">\n",
              "  <thead>\n",
              "    <tr style=\"text-align: right;\">\n",
              "      <th></th>\n",
              "      <th>ID_img</th>\n",
              "      <th>class</th>\n",
              "      <th>pred</th>\n",
              "    </tr>\n",
              "  </thead>\n",
              "  <tbody>\n",
              "    <tr>\n",
              "      <th>1023</th>\n",
              "      <td>3161.jpg</td>\n",
              "      <td>2.0</td>\n",
              "      <td>0</td>\n",
              "    </tr>\n",
              "    <tr>\n",
              "      <th>1324</th>\n",
              "      <td>3462.jpg</td>\n",
              "      <td>2.0</td>\n",
              "      <td>2</td>\n",
              "    </tr>\n",
              "    <tr>\n",
              "      <th>8069</th>\n",
              "      <td>12079.jpg</td>\n",
              "      <td>7.0</td>\n",
              "      <td>7</td>\n",
              "    </tr>\n",
              "    <tr>\n",
              "      <th>6122</th>\n",
              "      <td>10132.jpg</td>\n",
              "      <td>5.0</td>\n",
              "      <td>5</td>\n",
              "    </tr>\n",
              "    <tr>\n",
              "      <th>4230</th>\n",
              "      <td>6368.jpg</td>\n",
              "      <td>1.0</td>\n",
              "      <td>1</td>\n",
              "    </tr>\n",
              "  </tbody>\n",
              "</table>\n",
              "</div>\n",
              "      <button class=\"colab-df-convert\" onclick=\"convertToInteractive('df-d687a26d-d0c5-4fa2-b6e0-0ed9f9d667be')\"\n",
              "              title=\"Convert this dataframe to an interactive table.\"\n",
              "              style=\"display:none;\">\n",
              "        \n",
              "  <svg xmlns=\"http://www.w3.org/2000/svg\" height=\"24px\"viewBox=\"0 0 24 24\"\n",
              "       width=\"24px\">\n",
              "    <path d=\"M0 0h24v24H0V0z\" fill=\"none\"/>\n",
              "    <path d=\"M18.56 5.44l.94 2.06.94-2.06 2.06-.94-2.06-.94-.94-2.06-.94 2.06-2.06.94zm-11 1L8.5 8.5l.94-2.06 2.06-.94-2.06-.94L8.5 2.5l-.94 2.06-2.06.94zm10 10l.94 2.06.94-2.06 2.06-.94-2.06-.94-.94-2.06-.94 2.06-2.06.94z\"/><path d=\"M17.41 7.96l-1.37-1.37c-.4-.4-.92-.59-1.43-.59-.52 0-1.04.2-1.43.59L10.3 9.45l-7.72 7.72c-.78.78-.78 2.05 0 2.83L4 21.41c.39.39.9.59 1.41.59.51 0 1.02-.2 1.41-.59l7.78-7.78 2.81-2.81c.8-.78.8-2.07 0-2.86zM5.41 20L4 18.59l7.72-7.72 1.47 1.35L5.41 20z\"/>\n",
              "  </svg>\n",
              "      </button>\n",
              "      \n",
              "  <style>\n",
              "    .colab-df-container {\n",
              "      display:flex;\n",
              "      flex-wrap:wrap;\n",
              "      gap: 12px;\n",
              "    }\n",
              "\n",
              "    .colab-df-convert {\n",
              "      background-color: #E8F0FE;\n",
              "      border: none;\n",
              "      border-radius: 50%;\n",
              "      cursor: pointer;\n",
              "      display: none;\n",
              "      fill: #1967D2;\n",
              "      height: 32px;\n",
              "      padding: 0 0 0 0;\n",
              "      width: 32px;\n",
              "    }\n",
              "\n",
              "    .colab-df-convert:hover {\n",
              "      background-color: #E2EBFA;\n",
              "      box-shadow: 0px 1px 2px rgba(60, 64, 67, 0.3), 0px 1px 3px 1px rgba(60, 64, 67, 0.15);\n",
              "      fill: #174EA6;\n",
              "    }\n",
              "\n",
              "    [theme=dark] .colab-df-convert {\n",
              "      background-color: #3B4455;\n",
              "      fill: #D2E3FC;\n",
              "    }\n",
              "\n",
              "    [theme=dark] .colab-df-convert:hover {\n",
              "      background-color: #434B5C;\n",
              "      box-shadow: 0px 1px 3px 1px rgba(0, 0, 0, 0.15);\n",
              "      filter: drop-shadow(0px 1px 2px rgba(0, 0, 0, 0.3));\n",
              "      fill: #FFFFFF;\n",
              "    }\n",
              "  </style>\n",
              "\n",
              "      <script>\n",
              "        const buttonEl =\n",
              "          document.querySelector('#df-d687a26d-d0c5-4fa2-b6e0-0ed9f9d667be button.colab-df-convert');\n",
              "        buttonEl.style.display =\n",
              "          google.colab.kernel.accessAllowed ? 'block' : 'none';\n",
              "\n",
              "        async function convertToInteractive(key) {\n",
              "          const element = document.querySelector('#df-d687a26d-d0c5-4fa2-b6e0-0ed9f9d667be');\n",
              "          const dataTable =\n",
              "            await google.colab.kernel.invokeFunction('convertToInteractive',\n",
              "                                                     [key], {});\n",
              "          if (!dataTable) return;\n",
              "\n",
              "          const docLinkHtml = 'Like what you see? Visit the ' +\n",
              "            '<a target=\"_blank\" href=https://colab.research.google.com/notebooks/data_table.ipynb>data table notebook</a>'\n",
              "            + ' to learn more about interactive tables.';\n",
              "          element.innerHTML = '';\n",
              "          dataTable['output_type'] = 'display_data';\n",
              "          await google.colab.output.renderOutput(dataTable, element);\n",
              "          const docLink = document.createElement('div');\n",
              "          docLink.innerHTML = docLinkHtml;\n",
              "          element.appendChild(docLink);\n",
              "        }\n",
              "      </script>\n",
              "    </div>\n",
              "  </div>\n",
              "  "
            ]
          },
          "metadata": {},
          "execution_count": 49
        }
      ]
    },
    {
      "cell_type": "markdown",
      "metadata": {
        "id": "6PpNpJcpeevx"
      },
      "source": [
        "### Матрица ошибок"
      ]
    },
    {
      "cell_type": "code",
      "execution_count": null,
      "metadata": {
        "id": "pKy1aXXPcFrK",
        "colab": {
          "base_uri": "https://localhost:8080/",
          "height": 554
        },
        "outputId": "eff9fe99-477c-43c6-ce95-0814e4a98cfe"
      },
      "outputs": [
        {
          "output_type": "execute_result",
          "data": {
            "text/plain": [
              "<matplotlib.axes._subplots.AxesSubplot at 0x7f84aca32b50>"
            ]
          },
          "metadata": {},
          "execution_count": 50
        },
        {
          "output_type": "display_data",
          "data": {
            "text/plain": [
              "<Figure size 1152x648 with 2 Axes>"
            ],
            "image/png": "[encoded data removed]"
          },
          "metadata": {
            "needs_background": "light"
          }
        }
      ],
      "source": [
        "cm = confusion_matrix(valid_df['class'], valid_df['pred'])\n",
        "\n",
        "df_cm = pd.DataFrame(cm.astype('float') / cm.sum(axis=1)[:, np.newaxis], index = [\n",
        "    i for i in ['Автокран', 'Легковой автомобиль', 'Экскаватор', 'Человек', 'Самосвал', 'Карьерный погрузчик', 'Каток', 'Бульдозер']\n",
        "    ],\n",
        "    columns = [i for i in ['Автокран', 'Легковой автомобиль', 'Экскаватор', 'Человек', 'Самосвал', 'Карьерный погрузчик', 'Каток', 'Бульдозер']])\n",
        "\n",
        "plt.figure(figsize = (16,9))\n",
        "sns.heatmap(df_cm, annot=True, cmap=\"YlGnBu\")"
      ]
    },
    {
      "cell_type": "markdown",
      "metadata": {
        "id": "yKbNkjYW7X7j"
      },
      "source": [
        "## Предсказываем нашей моделью результат"
      ]
    },
    {
      "cell_type": "code",
      "source": [
        "test_df = pd.read_csv(PATH_TEST)\n",
        "test_df = test_df.drop([\"class\"], axis = 1)"
      ],
      "metadata": {
        "id": "tDT0F0ihekiN"
      },
      "execution_count": null,
      "outputs": []
    },
    {
      "cell_type": "code",
      "source": [
        "class TestImageDataset(Dataset):\n",
        "    def __init__(self, data_df, transform=None):\n",
        "        self.data_df = data_df\n",
        "        self.transform = transform\n",
        "\n",
        "    def __getitem__(self, idx):\n",
        "        image_name = self.data_df.iloc[idx]['ID_img']\n",
        "        \n",
        "        # читаем картинку\n",
        "        image = cv2.imread(DIR_TEST+ f\"{image_name}\")\n",
        "        image = cv2.cvtColor(image, cv2.COLOR_BGR2RGB)\n",
        "        image = Image.fromarray(image)\n",
        "        \n",
        "        # преобразуем, если нужно\n",
        "        if self.transform:\n",
        "            image = self.transform(image)\n",
        "        \n",
        "        return image\n",
        "    \n",
        "    def __len__(self):\n",
        "        return len(self.data_df)"
      ],
      "metadata": {
        "id": "q8ob_tWRcnwN"
      },
      "execution_count": null,
      "outputs": []
    },
    {
      "cell_type": "code",
      "source": [
        "test_dataset = TestImageDataset(test_df, valid_transform)"
      ],
      "metadata": {
        "id": "OJY-tOQPcpAW"
      },
      "execution_count": null,
      "outputs": []
    },
    {
      "cell_type": "code",
      "source": [
        "test_loader = torch.utils.data.DataLoader(dataset=test_dataset,\n",
        "                                           batch_size=32,\n",
        "                                           # shuffle=True,\n",
        "                                           pin_memory=True,\n",
        "                                           num_workers=2)"
      ],
      "metadata": {
        "id": "qFN5gVoHc4vp"
      },
      "execution_count": null,
      "outputs": []
    },
    {
      "cell_type": "code",
      "source": [
        "model.eval()\n",
        "predicts = []\n",
        "\n",
        "for imgs in tqdm(test_loader):\n",
        "    \n",
        "    imgs = imgs.cuda()\n",
        "    pred = model(imgs)\n",
        "    for class_obj in pred:\n",
        "      index, max_value = max(enumerate(class_obj), key=lambda i_v: i_v[1])\n",
        "      predicts.append(index)"
      ],
      "metadata": {
        "id": "F7oWLj6Kc8R4",
        "colab": {
          "base_uri": "https://localhost:8080/"
        },
        "outputId": "2ebbf4cc-6a34-4a6d-c7ce-b1ed8d69f63a"
      },
      "execution_count": null,
      "outputs": [
        {
          "output_type": "stream",
          "name": "stderr",
          "text": [
            "100%|██████████| 67/67 [06:24<00:00,  5.74s/it]\n"
          ]
        }
      ]
    },
    {
      "cell_type": "code",
      "source": [
        "test_df[\"class\"] = predicts\n",
        "\n",
        "test_df.head()"
      ],
      "metadata": {
        "colab": {
          "base_uri": "https://localhost:8080/",
          "height": 206
        },
        "id": "Dji_3ZHGsNuE",
        "outputId": "9e0830de-e509-4e2b-dcea-c3c46602e294"
      },
      "execution_count": null,
      "outputs": [
        {
          "output_type": "execute_result",
          "data": {
            "text/plain": [
              "  ID_img  class\n",
              "0  0.jpg      5\n",
              "1  1.jpg      7\n",
              "2  2.jpg      1\n",
              "3  3.jpg      2\n",
              "4  4.jpg      6"
            ],
            "text/html": [
              "\n",
              "  <div id=\"df-24a2f4f8-83a1-439a-8e54-4e3842e2f46f\">\n",
              "    <div class=\"colab-df-container\">\n",
              "      <div>\n",
              "<style scoped>\n",
              "    .dataframe tbody tr th:only-of-type {\n",
              "        vertical-align: middle;\n",
              "    }\n",
              "\n",
              "    .dataframe tbody tr th {\n",
              "        vertical-align: top;\n",
              "    }\n",
              "\n",
              "    .dataframe thead th {\n",
              "        text-align: right;\n",
              "    }\n",
              "</style>\n",
              "<table border=\"1\" class=\"dataframe\">\n",
              "  <thead>\n",
              "    <tr style=\"text-align: right;\">\n",
              "      <th></th>\n",
              "      <th>ID_img</th>\n",
              "      <th>class</th>\n",
              "    </tr>\n",
              "  </thead>\n",
              "  <tbody>\n",
              "    <tr>\n",
              "      <th>0</th>\n",
              "      <td>0.jpg</td>\n",
              "      <td>5</td>\n",
              "    </tr>\n",
              "    <tr>\n",
              "      <th>1</th>\n",
              "      <td>1.jpg</td>\n",
              "      <td>7</td>\n",
              "    </tr>\n",
              "    <tr>\n",
              "      <th>2</th>\n",
              "      <td>2.jpg</td>\n",
              "      <td>1</td>\n",
              "    </tr>\n",
              "    <tr>\n",
              "      <th>3</th>\n",
              "      <td>3.jpg</td>\n",
              "      <td>2</td>\n",
              "    </tr>\n",
              "    <tr>\n",
              "      <th>4</th>\n",
              "      <td>4.jpg</td>\n",
              "      <td>6</td>\n",
              "    </tr>\n",
              "  </tbody>\n",
              "</table>\n",
              "</div>\n",
              "      <button class=\"colab-df-convert\" onclick=\"convertToInteractive('df-24a2f4f8-83a1-439a-8e54-4e3842e2f46f')\"\n",
              "              title=\"Convert this dataframe to an interactive table.\"\n",
              "              style=\"display:none;\">\n",
              "        \n",
              "  <svg xmlns=\"http://www.w3.org/2000/svg\" height=\"24px\"viewBox=\"0 0 24 24\"\n",
              "       width=\"24px\">\n",
              "    <path d=\"M0 0h24v24H0V0z\" fill=\"none\"/>\n",
              "    <path d=\"M18.56 5.44l.94 2.06.94-2.06 2.06-.94-2.06-.94-.94-2.06-.94 2.06-2.06.94zm-11 1L8.5 8.5l.94-2.06 2.06-.94-2.06-.94L8.5 2.5l-.94 2.06-2.06.94zm10 10l.94 2.06.94-2.06 2.06-.94-2.06-.94-.94-2.06-.94 2.06-2.06.94z\"/><path d=\"M17.41 7.96l-1.37-1.37c-.4-.4-.92-.59-1.43-.59-.52 0-1.04.2-1.43.59L10.3 9.45l-7.72 7.72c-.78.78-.78 2.05 0 2.83L4 21.41c.39.39.9.59 1.41.59.51 0 1.02-.2 1.41-.59l7.78-7.78 2.81-2.81c.8-.78.8-2.07 0-2.86zM5.41 20L4 18.59l7.72-7.72 1.47 1.35L5.41 20z\"/>\n",
              "  </svg>\n",
              "      </button>\n",
              "      \n",
              "  <style>\n",
              "    .colab-df-container {\n",
              "      display:flex;\n",
              "      flex-wrap:wrap;\n",
              "      gap: 12px;\n",
              "    }\n",
              "\n",
              "    .colab-df-convert {\n",
              "      background-color: #E8F0FE;\n",
              "      border: none;\n",
              "      border-radius: 50%;\n",
              "      cursor: pointer;\n",
              "      display: none;\n",
              "      fill: #1967D2;\n",
              "      height: 32px;\n",
              "      padding: 0 0 0 0;\n",
              "      width: 32px;\n",
              "    }\n",
              "\n",
              "    .colab-df-convert:hover {\n",
              "      background-color: #E2EBFA;\n",
              "      box-shadow: 0px 1px 2px rgba(60, 64, 67, 0.3), 0px 1px 3px 1px rgba(60, 64, 67, 0.15);\n",
              "      fill: #174EA6;\n",
              "    }\n",
              "\n",
              "    [theme=dark] .colab-df-convert {\n",
              "      background-color: #3B4455;\n",
              "      fill: #D2E3FC;\n",
              "    }\n",
              "\n",
              "    [theme=dark] .colab-df-convert:hover {\n",
              "      background-color: #434B5C;\n",
              "      box-shadow: 0px 1px 3px 1px rgba(0, 0, 0, 0.15);\n",
              "      filter: drop-shadow(0px 1px 2px rgba(0, 0, 0, 0.3));\n",
              "      fill: #FFFFFF;\n",
              "    }\n",
              "  </style>\n",
              "\n",
              "      <script>\n",
              "        const buttonEl =\n",
              "          document.querySelector('#df-24a2f4f8-83a1-439a-8e54-4e3842e2f46f button.colab-df-convert');\n",
              "        buttonEl.style.display =\n",
              "          google.colab.kernel.accessAllowed ? 'block' : 'none';\n",
              "\n",
              "        async function convertToInteractive(key) {\n",
              "          const element = document.querySelector('#df-24a2f4f8-83a1-439a-8e54-4e3842e2f46f');\n",
              "          const dataTable =\n",
              "            await google.colab.kernel.invokeFunction('convertToInteractive',\n",
              "                                                     [key], {});\n",
              "          if (!dataTable) return;\n",
              "\n",
              "          const docLinkHtml = 'Like what you see? Visit the ' +\n",
              "            '<a target=\"_blank\" href=https://colab.research.google.com/notebooks/data_table.ipynb>data table notebook</a>'\n",
              "            + ' to learn more about interactive tables.';\n",
              "          element.innerHTML = '';\n",
              "          dataTable['output_type'] = 'display_data';\n",
              "          await google.colab.output.renderOutput(dataTable, element);\n",
              "          const docLink = document.createElement('div');\n",
              "          docLink.innerHTML = docLinkHtml;\n",
              "          element.appendChild(docLink);\n",
              "        }\n",
              "      </script>\n",
              "    </div>\n",
              "  </div>\n",
              "  "
            ]
          },
          "metadata": {},
          "execution_count": 57
        }
      ]
    },
    {
      "cell_type": "code",
      "execution_count": null,
      "metadata": {
        "id": "yU50d03g71Cq"
      },
      "outputs": [],
      "source": [
        "test_df.to_csv(\"/content/drive/My Drive/submit.csv\", index=False)"
      ]
    }
  ],
  "metadata": {
    "accelerator": "GPU",
    "colab": {
      "toc_visible": true,
      "provenance": []
    },
    "gpuClass": "standard",
    "kernelspec": {
      "display_name": "Python 3",
      "name": "python3"
    },
    "language_info": {
      "name": "python"
    },
    "widgets": {
      "application/vnd.jupyter.widget-state+json": {
        "01fdeb729bf14cedbc442384ba1f6476": {
          "model_module": "@jupyter-widgets/controls",
          "model_name": "HBoxModel",
          "model_module_version": "1.5.0",
          "state": {
            "_dom_classes": [],
            "_model_module": "@jupyter-widgets/controls",
            "_model_module_version": "1.5.0",
            "_model_name": "HBoxModel",
            "_view_count": null,
            "_view_module": "@jupyter-widgets/controls",
            "_view_module_version": "1.5.0",
            "_view_name": "HBoxView",
            "box_style": "",
            "children": [
              "IPY_MODEL_9e51420d68f142698faf3031ef57e40d",
              "IPY_MODEL_19b1ca797d914bde96fd6d76d779dc3c",
              "IPY_MODEL_c2210de9f42c446fa7deb5c0509c0b70"
            ],
            "layout": "IPY_MODEL_01b933bab9ef4c3ab9d8de277e2edc58"
          }
        },
        "9e51420d68f142698faf3031ef57e40d": {
          "model_module": "@jupyter-widgets/controls",
          "model_name": "HTMLModel",
          "model_module_version": "1.5.0",
          "state": {
            "_dom_classes": [],
            "_model_module": "@jupyter-widgets/controls",
            "_model_module_version": "1.5.0",
            "_model_name": "HTMLModel",
            "_view_count": null,
            "_view_module": "@jupyter-widgets/controls",
            "_view_module_version": "1.5.0",
            "_view_name": "HTMLView",
            "description": "",
            "description_tooltip": null,
            "layout": "IPY_MODEL_20340ce82b084123a011a858bbf88488",
            "placeholder": "​",
            "style": "IPY_MODEL_dfe88fd006d249538af3a17dd8898874",
            "value": "100%"
          }
        },
        "19b1ca797d914bde96fd6d76d779dc3c": {
          "model_module": "@jupyter-widgets/controls",
          "model_name": "FloatProgressModel",
          "model_module_version": "1.5.0",
          "state": {
            "_dom_classes": [],
            "_model_module": "@jupyter-widgets/controls",
            "_model_module_version": "1.5.0",
            "_model_name": "FloatProgressModel",
            "_view_count": null,
            "_view_module": "@jupyter-widgets/controls",
            "_view_module_version": "1.5.0",
            "_view_name": "ProgressView",
            "bar_style": "success",
            "description": "",
            "description_tooltip": null,
            "layout": "IPY_MODEL_416d5179802a4ee9a36d15d0040af22c",
            "max": 102530333,
            "min": 0,
            "orientation": "horizontal",
            "style": "IPY_MODEL_369814b7f3d641fda958df2f49a84994",
            "value": 102530333
          }
        },
        "c2210de9f42c446fa7deb5c0509c0b70": {
          "model_module": "@jupyter-widgets/controls",
          "model_name": "HTMLModel",
          "model_module_version": "1.5.0",
          "state": {
            "_dom_classes": [],
            "_model_module": "@jupyter-widgets/controls",
            "_model_module_version": "1.5.0",
            "_model_name": "HTMLModel",
            "_view_count": null,
            "_view_module": "@jupyter-widgets/controls",
            "_view_module_version": "1.5.0",
            "_view_name": "HTMLView",
            "description": "",
            "description_tooltip": null,
            "layout": "IPY_MODEL_680e76b99a294c97a920929eac904d45",
            "placeholder": "​",
            "style": "IPY_MODEL_f2488476699044539449922bb5167101",
            "value": " 97.8M/97.8M [00:01&lt;00:00, 41.9MB/s]"
          }
        },
        "01b933bab9ef4c3ab9d8de277e2edc58": {
          "model_module": "@jupyter-widgets/base",
          "model_name": "LayoutModel",
          "model_module_version": "1.2.0",
          "state": {
            "_model_module": "@jupyter-widgets/base",
            "_model_module_version": "1.2.0",
            "_model_name": "LayoutModel",
            "_view_count": null,
            "_view_module": "@jupyter-widgets/base",
            "_view_module_version": "1.2.0",
            "_view_name": "LayoutView",
            "align_content": null,
            "align_items": null,
            "align_self": null,
            "border": null,
            "bottom": null,
            "display": null,
            "flex": null,
            "flex_flow": null,
            "grid_area": null,
            "grid_auto_columns": null,
            "grid_auto_flow": null,
            "grid_auto_rows": null,
            "grid_column": null,
            "grid_gap": null,
            "grid_row": null,
            "grid_template_areas": null,
            "grid_template_columns": null,
            "grid_template_rows": null,
            "height": null,
            "justify_content": null,
            "justify_items": null,
            "left": null,
            "margin": null,
            "max_height": null,
            "max_width": null,
            "min_height": null,
            "min_width": null,
            "object_fit": null,
            "object_position": null,
            "order": null,
            "overflow": null,
            "overflow_x": null,
            "overflow_y": null,
            "padding": null,
            "right": null,
            "top": null,
            "visibility": null,
            "width": null
          }
        },
        "20340ce82b084123a011a858bbf88488": {
          "model_module": "@jupyter-widgets/base",
          "model_name": "LayoutModel",
          "model_module_version": "1.2.0",
          "state": {
            "_model_module": "@jupyter-widgets/base",
            "_model_module_version": "1.2.0",
            "_model_name": "LayoutModel",
            "_view_count": null,
            "_view_module": "@jupyter-widgets/base",
            "_view_module_version": "1.2.0",
            "_view_name": "LayoutView",
            "align_content": null,
            "align_items": null,
            "align_self": null,
            "border": null,
            "bottom": null,
            "display": null,
            "flex": null,
            "flex_flow": null,
            "grid_area": null,
            "grid_auto_columns": null,
            "grid_auto_flow": null,
            "grid_auto_rows": null,
            "grid_column": null,
            "grid_gap": null,
            "grid_row": null,
            "grid_template_areas": null,
            "grid_template_columns": null,
            "grid_template_rows": null,
            "height": null,
            "justify_content": null,
            "justify_items": null,
            "left": null,
            "margin": null,
            "max_height": null,
            "max_width": null,
            "min_height": null,
            "min_width": null,
            "object_fit": null,
            "object_position": null,
            "order": null,
            "overflow": null,
            "overflow_x": null,
            "overflow_y": null,
            "padding": null,
            "right": null,
            "top": null,
            "visibility": null,
            "width": null
          }
        },
        "dfe88fd006d249538af3a17dd8898874": {
          "model_module": "@jupyter-widgets/controls",
          "model_name": "DescriptionStyleModel",
          "model_module_version": "1.5.0",
          "state": {
            "_model_module": "@jupyter-widgets/controls",
            "_model_module_version": "1.5.0",
            "_model_name": "DescriptionStyleModel",
            "_view_count": null,
            "_view_module": "@jupyter-widgets/base",
            "_view_module_version": "1.2.0",
            "_view_name": "StyleView",
            "description_width": ""
          }
        },
        "416d5179802a4ee9a36d15d0040af22c": {
          "model_module": "@jupyter-widgets/base",
          "model_name": "LayoutModel",
          "model_module_version": "1.2.0",
          "state": {
            "_model_module": "@jupyter-widgets/base",
            "_model_module_version": "1.2.0",
            "_model_name": "LayoutModel",
            "_view_count": null,
            "_view_module": "@jupyter-widgets/base",
            "_view_module_version": "1.2.0",
            "_view_name": "LayoutView",
            "align_content": null,
            "align_items": null,
            "align_self": null,
            "border": null,
            "bottom": null,
            "display": null,
            "flex": null,
            "flex_flow": null,
            "grid_area": null,
            "grid_auto_columns": null,
            "grid_auto_flow": null,
            "grid_auto_rows": null,
            "grid_column": null,
            "grid_gap": null,
            "grid_row": null,
            "grid_template_areas": null,
            "grid_template_columns": null,
            "grid_template_rows": null,
            "height": null,
            "justify_content": null,
            "justify_items": null,
            "left": null,
            "margin": null,
            "max_height": null,
            "max_width": null,
            "min_height": null,
            "min_width": null,
            "object_fit": null,
            "object_position": null,
            "order": null,
            "overflow": null,
            "overflow_x": null,
            "overflow_y": null,
            "padding": null,
            "right": null,
            "top": null,
            "visibility": null,
            "width": null
          }
        },
        "369814b7f3d641fda958df2f49a84994": {
          "model_module": "@jupyter-widgets/controls",
          "model_name": "ProgressStyleModel",
          "model_module_version": "1.5.0",
          "state": {
            "_model_module": "@jupyter-widgets/controls",
            "_model_module_version": "1.5.0",
            "_model_name": "ProgressStyleModel",
            "_view_count": null,
            "_view_module": "@jupyter-widgets/base",
            "_view_module_version": "1.2.0",
            "_view_name": "StyleView",
            "bar_color": null,
            "description_width": ""
          }
        },
        "680e76b99a294c97a920929eac904d45": {
          "model_module": "@jupyter-widgets/base",
          "model_name": "LayoutModel",
          "model_module_version": "1.2.0",
          "state": {
            "_model_module": "@jupyter-widgets/base",
            "_model_module_version": "1.2.0",
            "_model_name": "LayoutModel",
            "_view_count": null,
            "_view_module": "@jupyter-widgets/base",
            "_view_module_version": "1.2.0",
            "_view_name": "LayoutView",
            "align_content": null,
            "align_items": null,
            "align_self": null,
            "border": null,
            "bottom": null,
            "display": null,
            "flex": null,
            "flex_flow": null,
            "grid_area": null,
            "grid_auto_columns": null,
            "grid_auto_flow": null,
            "grid_auto_rows": null,
            "grid_column": null,
            "grid_gap": null,
            "grid_row": null,
            "grid_template_areas": null,
            "grid_template_columns": null,
            "grid_template_rows": null,
            "height": null,
            "justify_content": null,
            "justify_items": null,
            "left": null,
            "margin": null,
            "max_height": null,
            "max_width": null,
            "min_height": null,
            "min_width": null,
            "object_fit": null,
            "object_position": null,
            "order": null,
            "overflow": null,
            "overflow_x": null,
            "overflow_y": null,
            "padding": null,
            "right": null,
            "top": null,
            "visibility": null,
            "width": null
          }
        },
        "f2488476699044539449922bb5167101": {
          "model_module": "@jupyter-widgets/controls",
          "model_name": "DescriptionStyleModel",
          "model_module_version": "1.5.0",
          "state": {
            "_model_module": "@jupyter-widgets/controls",
            "_model_module_version": "1.5.0",
            "_model_name": "DescriptionStyleModel",
            "_view_count": null,
            "_view_module": "@jupyter-widgets/base",
            "_view_module_version": "1.2.0",
            "_view_name": "StyleView",
            "description_width": ""
          }
        }
      }
    }
  },
  "nbformat": 4,
  "nbformat_minor": 0
}